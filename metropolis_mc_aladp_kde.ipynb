{
 "metadata": {
  "language_info": {
   "codemirror_mode": {
    "name": "ipython",
    "version": 3
   },
   "file_extension": ".py",
   "mimetype": "text/x-python",
   "name": "python",
   "nbconvert_exporter": "python",
   "pygments_lexer": "ipython3",
   "version": "3.7.6-final"
  },
  "orig_nbformat": 2,
  "kernelspec": {
   "name": "python3",
   "display_name": "Python 3",
   "language": "python"
  }
 },
 "nbformat": 4,
 "nbformat_minor": 2,
 "cells": [
  {
   "cell_type": "code",
   "execution_count": 1,
   "metadata": {},
   "outputs": [],
   "source": [
    "import numpy as np\n",
    "import pandas as pd\n",
    "import csv\n",
    "import matplotlib.pyplot as plt\n",
    "import random\n",
    "import time\n",
    "from scipy import stats"
   ]
  },
  {
   "cell_type": "code",
   "execution_count": 2,
   "metadata": {},
   "outputs": [],
   "source": [
    "def read_rama(path):\n",
    "    with open(path, 'r') as file:\n",
    "        phi = []\n",
    "        psi = []\n",
    "        for row in file:\n",
    "            if row.split()[0] == '#':\n",
    "                continue\n",
    "            if row.split()[0] == '@': \n",
    "                continue\n",
    "            if row.split()[0] == '@TYPE': \n",
    "                continue\n",
    "            phi.append(float(row.split()[0])) \n",
    "            psi.append(float(row.split()[1]))\n",
    "\n",
    "        df = pd.DataFrame(columns=['phi', 'psi'])\n",
    "        df['phi'] = phi\n",
    "        df['psi'] = psi\n",
    "        df['weight'] = 1 / len(df.index)\n",
    "        #df['weight_psi'] = 1 / len(df.index)\n",
    "\n",
    "    return df"
   ]
  },
  {
   "cell_type": "code",
   "execution_count": 30,
   "metadata": {},
   "outputs": [],
   "source": [
    "def randomizer(mult):\n",
    "\n",
    "    dih = random_dihedral()\n",
    "    const = random_constant(3)\n",
    "    \n",
    "    mult[random.randrange(0,len(mult))] = random.randrange(1,6)\n",
    "    \n",
    "    return dih, const, mult\n",
    "\n",
    "\n",
    "def random_dihedral():\n",
    "\n",
    "    return [360 * random.random() - 180 for i in range(4)]\n",
    "\n",
    "\n",
    "def random_constant(limit):\n",
    "\n",
    "    return [limit * random.random() for i in range(4)]\n",
    "\n",
    "####################################################################################################\n",
    "\n",
    "def make_weights(rama_df, dih, const, mult, beta):\n",
    "        \n",
    "    rama_df = rama_df.assign(weight=lambda x: weight(x.phi, x.psi, dih, const, mult, beta))\n",
    "    #rama_df = rama_df.assign(weight_psi=lambda x: weight_psi(x.psi, dih, const, mult, beta))\n",
    "\n",
    "\n",
    "    rama_df['weight'] = rama_df['weight'] / np.sum(rama_df['weight'])\n",
    "    #rama_df['weight_psi'] = rama_df['weight_psi'] / np.sum(rama_df['weight_psi'])\n",
    "    return rama_df\n",
    "\n",
    "####################################################################################################\n",
    "\n",
    "def weight(phi, psi, dih, const, mult, beta):\n",
    "\n",
    "    d2r = np.pi\n",
    "\n",
    "    gd_42 = (const[0] * ( 1 + np.cos(mult[0] * (psi * d2r) - (dih[0] * d2r))))\n",
    "    gd_43 = (const[1] * ( 1 + np.cos(mult[1] * (phi * d2r) - (dih[1] * d2r))))        \n",
    "    gd_44 = (const[2] * ( 1 + np.cos(mult[2] * (phi * d2r) - (dih[2] * d2r))))\n",
    "    gd_45 = (const[3] * ( 1 + np.cos(mult[3] * (psi * d2r) - (dih[3] * d2r))))\n",
    "\n",
    "    return np.exp(-1 * beta * (gd_42 + gd_43 + gd_44 + gd_45))"
   ]
  },
  {
   "cell_type": "code",
   "execution_count": 50,
   "metadata": {},
   "outputs": [],
   "source": [
    "def make_matrix(df, positions, dimension):\n",
    "\n",
    "    values = np.vstack([df['phi'], df['psi']])\n",
    "\n",
    "    kernel = stats.gaussian_kde(values,bw_method = 0.5, weights=df['weight'])\n",
    "\n",
    "    mat = np.reshape(kernel(positions).T, dimension)\n",
    "    #print(mat)  \n",
    "    return mat\n",
    "\n",
    "###################################################################################################\n",
    "\n",
    "def make_grid():\n",
    "    X, Y = np.mgrid[-180:180:72j, -180:180:72j]\n",
    "\n",
    "    positions = np.vstack([X.ravel(), Y.ravel()])\n",
    "\n",
    "    dimension = X.shape\n",
    "\n",
    "    return positions, dimension\n",
    "\n",
    "###################################################################################################\n",
    "\n",
    "def efficiency_analysis(greta_df):\n",
    "       \n",
    "    s_weight = np.power(np.sum(greta_df['weight']), 2)\n",
    "    s2_weight = np.sum(np.power(greta_df['weight'], 2))\n",
    "    #print(s_weight/(s2_weight*len(greta_df.index)))\n",
    "    return s_weight/(s2_weight*len(greta_df.index))\n",
    "\n",
    "###################################################################################################\n",
    "\n",
    "def score_comp(amber_mat, greta_mat):\n",
    "    #we will use entropy as the sum over bins of REF * log(REF/TEST)\n",
    "\n",
    "    score = -1 * np.sum(amber_mat * np.log(amber_mat / greta_mat))\n",
    "    #print('the score is: %s' % score)\n",
    "    return score"
   ]
  },
  {
   "cell_type": "code",
   "execution_count": 58,
   "metadata": {},
   "outputs": [],
   "source": [
    "def writer(df, score_ref, ratio, i, temp, acceptance, score, perc, dih, const, mult):\n",
    "\n",
    "    if score > score_ref:\n",
    "        ratio = ratio + 1\n",
    "\n",
    "        df2 = pd.DataFrame([[score, ratio/(i+1), perc, dih[0], dih[1], dih[2], dih[3], const[0], const[1], const[2], const[3], mult[0], mult[1], mult[2], mult[3]]], columns=['score','ratio','perc','gd42','gd43','gd44','gd45','k42','k43','k44','k45','m42','m43','m44','m45'])\n",
    "        \n",
    "        df = df.append(df2)\n",
    "\n",
    "        score_ref = score\n",
    "\n",
    "    else:\n",
    "        if np.exp(-(score  - score_ref)/temp) < acceptance:\n",
    "\n",
    "            ratio = np.int(ratio) + 1\n",
    "\n",
    "            df2 = pd.DataFrame([[score, ratio/(i+1), perc, dih[0], dih[1], dih[2], dih[3], const[0], const[1], const[2], const[3], mult[0], mult[1], mult[2], mult[3]]], columns=['score','ratio','perc','gd42','gd43','gd44','gd45','k42','k43','k44','k45','m42','m43','m44','m45'])\n",
    "            \n",
    "            df = df.append(df2)\n",
    "\n",
    "            score_ref = score\n",
    "\n",
    "    return score_ref, ratio, df"
   ]
  },
  {
   "cell_type": "code",
   "execution_count": 65,
   "metadata": {},
   "outputs": [],
   "source": [
    "def main(amber_df, greta_df):\n",
    "    \n",
    "    score_ref = -1\n",
    "    ratio = 0\n",
    "    \n",
    "    mult = [1,3,1,3]\n",
    "\n",
    "    #Monte Carlo temperature\n",
    "    temp = 0.085\n",
    "\n",
    "    start_time = time.time()\n",
    "\n",
    "    df = pd.DataFrame(columns=['score','ratio','perc','gd42','gd43','gd44','gd45','k42','k43','k44','k45','m42','m43','m44','m45'])\n",
    "\n",
    "    positions, dimension = make_grid()\n",
    "    \n",
    "    amber_mat = make_matrix(amber_df, positions, dimension)\n",
    "\n",
    "    for i in range(5000):\n",
    "        \n",
    "        acceptance = random.random()\n",
    "        \n",
    "        dih, const, mult = randomizer(mult)\n",
    "        \n",
    "        score, perc = metropolis(amber_mat, greta_df, positions, dimension, dih, const, mult, beta=1/2.4943389)\n",
    "        \n",
    "        score_ref, ratio, df = writer(df, score_ref, ratio, i, temp, acceptance, score, perc, dih, const, mult)\n",
    "\n",
    "    print('Metropolis done in %s seconds!' %(time.time() - start_time))\n",
    "    df.sort_values(by=['score'], ascending=False).to_csv('output/ALA_run2.csv')\n",
    "    return df.sort_values(by=['score'], ascending=False)\n",
    "\n",
    "####################################################################################################\n",
    "\n",
    "def metropolis(amber_mat, greta_df, positions, dimension, dih, const, mult, beta):\n",
    "    \n",
    "    greta_df = make_weights(greta_df, dih, const, mult, beta)\n",
    "    greta_mat = make_matrix(greta_df, positions, dimension)\n",
    "    perc = efficiency_analysis(greta_df)\n",
    "\n",
    "    if  np.float(perc) >= 0.40:\n",
    "        score = score_comp(amber_mat, greta_mat)\n",
    "    else:\n",
    "        score = -10\n",
    "\n",
    "    return score, perc"
   ]
  },
  {
   "cell_type": "code",
   "execution_count": 66,
   "metadata": {},
   "outputs": [],
   "source": [
    "amber_df = read_rama('amber_rama/rama_aladp_amber.xvg')\n",
    "greta_df = read_rama('greta_rama/rama_aladp_greta_mod1.xvg')"
   ]
  },
  {
   "cell_type": "code",
   "execution_count": 67,
   "metadata": {},
   "outputs": [
    {
     "output_type": "stream",
     "name": "stdout",
     "text": [
      "Metropolis done in 1294.2230365276337 seconds!\n"
     ]
    }
   ],
   "source": [
    "ala = main(amber_df, greta_df)"
   ]
  },
  {
   "cell_type": "code",
   "execution_count": 68,
   "metadata": {},
   "outputs": [
    {
     "output_type": "execute_result",
     "data": {
      "text/plain": [
       "      score     ratio      perc        gd42        gd43        gd44  \\\n",
       "0 -0.035503  0.006274  0.411934   94.624298  173.689353  170.735025   \n",
       "0 -0.035640  0.007092  0.453531   99.112733 -130.017856  -51.402873   \n",
       "0 -0.035659  0.007005  0.403538   40.663785 -143.360356   12.752022   \n",
       "0 -0.035761  0.012915  0.570619   88.604001    0.455973   76.576686   \n",
       "0 -0.035811  0.019048  0.437960  133.805482  154.018893  116.096578   \n",
       "0 -0.035993  0.054348  0.502136   73.052993   50.259263   36.259732   \n",
       "0 -0.036047  0.363636  0.444956 -109.084321  -41.337599  176.597491   \n",
       "0 -0.036531  0.333333  0.475639 -143.138389  104.908580 -121.643287   \n",
       "0 -0.036706  0.666667  0.443975  119.156398  -53.057801 -119.467477   \n",
       "0 -0.036815  1.000000  0.686287   46.524342  167.103425  -29.350363   \n",
       "\n",
       "         gd45       k42       k43       k44       k45 m42 m43 m44 m45  \n",
       "0 -149.012700  2.107833  0.143527  2.985263  1.403613   5   5   3   3  \n",
       "0   15.022850  0.829624  0.313388  2.251547  2.835332   1   4   3   3  \n",
       "0  -34.584355  1.862443  1.720556  1.145213  2.770712   4   5   3   3  \n",
       "0 -110.086995  1.032097  2.444917  1.771592  0.052851   1   1   3   2  \n",
       "0  -76.843680  0.052356  2.583104  0.778394  2.827126   1   5   1   3  \n",
       "0 -165.346067  2.436178  1.093367  1.644887  1.116846   2   1   3   5  \n",
       "0  167.921550  0.763325  2.705677  0.674407  2.449619   3   3   4   2  \n",
       "0 -124.791400  2.928211  0.712034  1.959908  0.411291   3   3   4   5  \n",
       "0  -79.262159  2.678229  0.801527  1.542947  1.949589   3   5   1   3  \n",
       "0   13.263472  1.072151  0.934875  1.956125  0.439037   1   3   1   3  "
      ],
      "text/html": "<div>\n<style scoped>\n    .dataframe tbody tr th:only-of-type {\n        vertical-align: middle;\n    }\n\n    .dataframe tbody tr th {\n        vertical-align: top;\n    }\n\n    .dataframe thead th {\n        text-align: right;\n    }\n</style>\n<table border=\"1\" class=\"dataframe\">\n  <thead>\n    <tr style=\"text-align: right;\">\n      <th></th>\n      <th>score</th>\n      <th>ratio</th>\n      <th>perc</th>\n      <th>gd42</th>\n      <th>gd43</th>\n      <th>gd44</th>\n      <th>gd45</th>\n      <th>k42</th>\n      <th>k43</th>\n      <th>k44</th>\n      <th>k45</th>\n      <th>m42</th>\n      <th>m43</th>\n      <th>m44</th>\n      <th>m45</th>\n    </tr>\n  </thead>\n  <tbody>\n    <tr>\n      <th>0</th>\n      <td>-0.035503</td>\n      <td>0.006274</td>\n      <td>0.411934</td>\n      <td>94.624298</td>\n      <td>173.689353</td>\n      <td>170.735025</td>\n      <td>-149.012700</td>\n      <td>2.107833</td>\n      <td>0.143527</td>\n      <td>2.985263</td>\n      <td>1.403613</td>\n      <td>5</td>\n      <td>5</td>\n      <td>3</td>\n      <td>3</td>\n    </tr>\n    <tr>\n      <th>0</th>\n      <td>-0.035640</td>\n      <td>0.007092</td>\n      <td>0.453531</td>\n      <td>99.112733</td>\n      <td>-130.017856</td>\n      <td>-51.402873</td>\n      <td>15.022850</td>\n      <td>0.829624</td>\n      <td>0.313388</td>\n      <td>2.251547</td>\n      <td>2.835332</td>\n      <td>1</td>\n      <td>4</td>\n      <td>3</td>\n      <td>3</td>\n    </tr>\n    <tr>\n      <th>0</th>\n      <td>-0.035659</td>\n      <td>0.007005</td>\n      <td>0.403538</td>\n      <td>40.663785</td>\n      <td>-143.360356</td>\n      <td>12.752022</td>\n      <td>-34.584355</td>\n      <td>1.862443</td>\n      <td>1.720556</td>\n      <td>1.145213</td>\n      <td>2.770712</td>\n      <td>4</td>\n      <td>5</td>\n      <td>3</td>\n      <td>3</td>\n    </tr>\n    <tr>\n      <th>0</th>\n      <td>-0.035761</td>\n      <td>0.012915</td>\n      <td>0.570619</td>\n      <td>88.604001</td>\n      <td>0.455973</td>\n      <td>76.576686</td>\n      <td>-110.086995</td>\n      <td>1.032097</td>\n      <td>2.444917</td>\n      <td>1.771592</td>\n      <td>0.052851</td>\n      <td>1</td>\n      <td>1</td>\n      <td>3</td>\n      <td>2</td>\n    </tr>\n    <tr>\n      <th>0</th>\n      <td>-0.035811</td>\n      <td>0.019048</td>\n      <td>0.437960</td>\n      <td>133.805482</td>\n      <td>154.018893</td>\n      <td>116.096578</td>\n      <td>-76.843680</td>\n      <td>0.052356</td>\n      <td>2.583104</td>\n      <td>0.778394</td>\n      <td>2.827126</td>\n      <td>1</td>\n      <td>5</td>\n      <td>1</td>\n      <td>3</td>\n    </tr>\n    <tr>\n      <th>0</th>\n      <td>-0.035993</td>\n      <td>0.054348</td>\n      <td>0.502136</td>\n      <td>73.052993</td>\n      <td>50.259263</td>\n      <td>36.259732</td>\n      <td>-165.346067</td>\n      <td>2.436178</td>\n      <td>1.093367</td>\n      <td>1.644887</td>\n      <td>1.116846</td>\n      <td>2</td>\n      <td>1</td>\n      <td>3</td>\n      <td>5</td>\n    </tr>\n    <tr>\n      <th>0</th>\n      <td>-0.036047</td>\n      <td>0.363636</td>\n      <td>0.444956</td>\n      <td>-109.084321</td>\n      <td>-41.337599</td>\n      <td>176.597491</td>\n      <td>167.921550</td>\n      <td>0.763325</td>\n      <td>2.705677</td>\n      <td>0.674407</td>\n      <td>2.449619</td>\n      <td>3</td>\n      <td>3</td>\n      <td>4</td>\n      <td>2</td>\n    </tr>\n    <tr>\n      <th>0</th>\n      <td>-0.036531</td>\n      <td>0.333333</td>\n      <td>0.475639</td>\n      <td>-143.138389</td>\n      <td>104.908580</td>\n      <td>-121.643287</td>\n      <td>-124.791400</td>\n      <td>2.928211</td>\n      <td>0.712034</td>\n      <td>1.959908</td>\n      <td>0.411291</td>\n      <td>3</td>\n      <td>3</td>\n      <td>4</td>\n      <td>5</td>\n    </tr>\n    <tr>\n      <th>0</th>\n      <td>-0.036706</td>\n      <td>0.666667</td>\n      <td>0.443975</td>\n      <td>119.156398</td>\n      <td>-53.057801</td>\n      <td>-119.467477</td>\n      <td>-79.262159</td>\n      <td>2.678229</td>\n      <td>0.801527</td>\n      <td>1.542947</td>\n      <td>1.949589</td>\n      <td>3</td>\n      <td>5</td>\n      <td>1</td>\n      <td>3</td>\n    </tr>\n    <tr>\n      <th>0</th>\n      <td>-0.036815</td>\n      <td>1.000000</td>\n      <td>0.686287</td>\n      <td>46.524342</td>\n      <td>167.103425</td>\n      <td>-29.350363</td>\n      <td>13.263472</td>\n      <td>1.072151</td>\n      <td>0.934875</td>\n      <td>1.956125</td>\n      <td>0.439037</td>\n      <td>1</td>\n      <td>3</td>\n      <td>1</td>\n      <td>3</td>\n    </tr>\n  </tbody>\n</table>\n</div>"
     },
     "metadata": {},
     "execution_count": 68
    }
   ],
   "source": [
    "ala"
   ]
  },
  {
   "cell_type": "code",
   "execution_count": null,
   "metadata": {},
   "outputs": [],
   "source": []
  }
 ]
}