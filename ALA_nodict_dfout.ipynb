{
 "metadata": {
  "language_info": {
   "codemirror_mode": {
    "name": "ipython",
    "version": 3
   },
   "file_extension": ".py",
   "mimetype": "text/x-python",
   "name": "python",
   "nbconvert_exporter": "python",
   "pygments_lexer": "ipython3",
   "version": "3.7.6"
  },
  "orig_nbformat": 2,
  "kernelspec": {
   "name": "python3",
   "display_name": "Python 3",
   "language": "python"
  }
 },
 "nbformat": 4,
 "nbformat_minor": 2,
 "cells": [
  {
   "cell_type": "code",
   "execution_count": 1,
   "metadata": {},
   "outputs": [],
   "source": [
    "import numpy as np\n",
    "import pandas as pd\n",
    "import csv\n",
    "import matplotlib.pyplot as plt\n",
    "import random\n",
    "import time"
   ]
  },
  {
   "cell_type": "code",
   "execution_count": 2,
   "metadata": {},
   "outputs": [],
   "source": [
    "def make_database():#aminos):\n",
    "    #aminos is taken as input so that only the \"interesting\" aminoacid are considered.\n",
    "    path = 'database_csv/ALA.csv' \n",
    "    df = pd.read_csv(path)\n",
    "    df.columns = ['aa', 'phi', 'psi']\n",
    "        \n",
    "    df = df.drop('aa', axis =1)\n",
    "    df['weight'] = 1 /len(df.index) #normalized\n",
    "    \n",
    "    return df #IT'S GOOD, DON'T TOUCH\n",
    "\n",
    "####################################################################################################\n",
    "\n",
    "def read_rama(path):\n",
    "    #firstly, we read the .xvg file and make a proper pandas dataframe\n",
    "    data = open(path, 'r')\n",
    "    rama = pd.read_csv(data, sep = '\\s+')\n",
    "    rama.columns = ['phi', 'psi', 'aa']\n",
    "\n",
    "    #in rama.xvg data are organized as \\phi \\psi aa-num so we have to split the last index\n",
    "    rama[['type', 'num']] = rama['aa'].str.split('-', 1, expand=True)\n",
    "\n",
    "    #values sorted by amino acid so that computations can be faster to implement\n",
    "    rama = rama.drop(['aa', 'num'], axis = 1).sort_values('type').reset_index(drop=True)\n",
    "\n",
    "    aminos = rama['type'].unique()\n",
    "\n",
    "    rama_dict = {amino: rama[rama['type'] == amino].drop('type', axis = 1).reset_index() for amino in aminos}\n",
    "    \n",
    "    return rama_dict['ALA'] #.sort_values(['row', 'col'])"
   ]
  },
  {
   "cell_type": "code",
   "execution_count": 3,
   "metadata": {},
   "outputs": [],
   "source": [
    "def randomizer(mult):\n",
    "\n",
    "    dih = random_dihedral()\n",
    "    const = random_constant(10)\n",
    "    \n",
    "    mult[random.randrange(0,len(mult))] = random.randrange(1,9)\n",
    "    \n",
    "    return dih, const, mult\n",
    "\n",
    "\n",
    "def random_dihedral():\n",
    "\n",
    "    return [360 * random.random() - 180 for i in range(4)]\n",
    "\n",
    "\n",
    "def random_constant(limit):\n",
    "\n",
    "    return [limit * random.random() for i in range(4)]\n",
    "\n",
    "####################################################################################################\n",
    "\n",
    "def make_weights(rama_df, dih, const, mult, beta):\n",
    "        \n",
    "    rama_df = rama_df.assign(weight=lambda x: weight(x.phi, x.psi, dih, const, mult, beta))\n",
    "\n",
    "    rama_df['weight'] = rama_df['weight'] / np.sum(rama_df['weight'])\n",
    "    \n",
    "    return rama_df\n",
    "\n",
    "\n",
    "def weight(phi, psi, dih, const, mult, beta):\n",
    "    \n",
    "    d2r = np.pi / 180\n",
    "    \n",
    "    gd_42 = (const[0] * ( 1 + np.cos(mult[0] * (psi * d2r) - (dih[0] * d2r))))\n",
    "    gd_43 = (const[1] * ( 1 + np.cos(mult[1] * (phi * d2r) - (dih[1] * d2r))))        \n",
    "    gd_44 = (const[2] * ( 1 + np.cos(mult[2] * (phi * d2r) - (dih[2] * d2r))))\n",
    "    gd_45 = (const[3] * ( 1 + np.cos(mult[3] * (psi * d2r) - (dih[3] * d2r))))\n",
    "\n",
    "    return np.exp(-1 * beta * (gd_42 + gd_43 + gd_44 + gd_45))"
   ]
  },
  {
   "cell_type": "code",
   "execution_count": 4,
   "metadata": {},
   "outputs": [],
   "source": [
    "def make_matrix(rama_df):\n",
    "\n",
    "    mat, x1, x2 = np.histogram2d(rama_df['psi'], rama_df['phi'], bins=180, weights=rama_df['weight'], density=True)\n",
    "            \n",
    "    return mat\n",
    "\n",
    "####################################################################################################\n",
    "\n",
    "def efficiency_analysis(rama_dict):\n",
    "       \n",
    "    s_weight = np.power(np.sum(rama_dict['weight']), 2)\n",
    "    s2_weight = np.sum(np.power(rama_dict['weight'], 2))\n",
    "\n",
    "    return s_weight/(s2_weight*len(rama_dict.index))\n",
    "\n",
    "####################################################################################################\n",
    "\n",
    "def score_comp(mat_db, df_rama):\n",
    "    \n",
    "    mat_rama = make_matrix(df_rama)\n",
    "    \n",
    "    scores = []\n",
    "\n",
    "    mat_diff = np.power(mat_db - mat_rama, 2)\n",
    "    mat_sq = np.power(mat_db, 2)\n",
    "\n",
    "    num = np.sum(mat_diff)\n",
    "    den = np.sum(mat_sq)\n",
    "\n",
    "    score = (num/den)\n",
    "\n",
    "    return score"
   ]
  },
  {
   "cell_type": "code",
   "execution_count": 5,
   "metadata": {},
   "outputs": [],
   "source": [
    "def writer(df, score_ref, ratio, i, temp, acceptance, score, perc, dih, const, mult):\n",
    "\n",
    "    if score < score_ref:\n",
    "        ratio = ratio + 1\n",
    "\n",
    "        df2 = pd.DataFrame([[score, ratio/(i+1), perc, dih[0], dih[1], dih[2], dih[3], const[0], const[1], const[2], const[3], mult[0], mult[1], mult[2], mult[3]]], columns=['score','ratio','perc','gd46','gd47','gd48','gd49','k46','k47','k48','k49','m46','m47','m48','m49'])\n",
    "        \n",
    "        df = df.append(df2)\n",
    "\n",
    "        score_ref = score\n",
    "\n",
    "    else:\n",
    "        if np.exp(-(score  - score_ref)/temp) > acceptance:\n",
    "\n",
    "            ratio = np.int(ratio) + 1\n",
    "\n",
    "            df2 = pd.DataFrame([[score, ratio/(i+1), perc, dih[0], dih[1], dih[2], dih[3], const[0], const[1], const[2], const[3], mult[0], mult[1], mult[2], mult[3]]], columns=['score','ratio','perc','gd46','gd47','gd48','gd49','k46','k47','k48','k49','m46','m47','m48','m49'])\n",
    "            \n",
    "            df = df.append(df2)\n",
    "\n",
    "            score_ref = score\n",
    "\n",
    "    return score_ref, ratio, df"
   ]
  },
  {
   "cell_type": "code",
   "execution_count": 6,
   "metadata": {},
   "outputs": [],
   "source": [
    "def main(mat_db, rama_dict):\n",
    "    \n",
    "    score_ref = 0.879280\n",
    "    ratio = 0\n",
    "    \n",
    "    mult = [1,3,1,3]\n",
    "\n",
    "    #Monte Carlo temperature\n",
    "    temp = 0.03\n",
    "\n",
    "    start_time = time.time()\n",
    "\n",
    "    df = pd.DataFrame(columns=['score','ratio','perc','gd46','gd47','gd48','gd49','k46','k47','k48','k49','m46','m47','m48','m49'])\n",
    "\n",
    "    for i in range(100000):\n",
    "        \n",
    "        acceptance = random.random()\n",
    "        \n",
    "        dih, const, mult = randomizer(mult)\n",
    "        \n",
    "        score, perc = metropolis(mat_db, rama_dict, dih, const, mult, beta=1/2.4943389)\n",
    "        \n",
    "        score_ref, ratio, df = writer(df, score_ref, ratio, i, temp, acceptance, score, perc, dih, const, mult)\n",
    "\n",
    "    print('Metropolis done in %s seconds!' %(time.time() - start_time))\n",
    "    df.sort_values(by=['score']).to_csv('output/ALA.csv')\n",
    "    return df.sort_values(by=['score'])\n",
    "\n",
    "####################################################################################################\n",
    "\n",
    "def metropolis(mat_db, rama_df, dih, const, mult, beta):\n",
    "    \n",
    "    rama_df = make_weights(rama_df, dih, const, mult, beta)\n",
    "    \n",
    "    perc = efficiency_analysis(rama_df)\n",
    "\n",
    "    if  np.float(perc) >= 0.45:\n",
    "        score = score_comp(mat_db, rama_df)\n",
    "    else:\n",
    "        score = 1000\n",
    "\n",
    "    return score, perc\n"
   ]
  },
  {
   "cell_type": "code",
   "execution_count": 7,
   "metadata": {},
   "outputs": [],
   "source": [
    "mat_db = make_matrix(make_database())\n",
    "\n",
    "rama_dict = read_rama('input/rama_diff_4.xvg')"
   ]
  },
  {
   "cell_type": "code",
   "execution_count": 8,
   "metadata": {},
   "outputs": [
    {
     "output_type": "error",
     "ename": "KeyboardInterrupt",
     "evalue": "",
     "traceback": [
      "\u001b[0;31m---------------------------------------------------------------------------\u001b[0m",
      "\u001b[0;31mKeyboardInterrupt\u001b[0m                         Traceback (most recent call last)",
      "\u001b[0;32m<ipython-input-8-49ce9ab4a1f5>\u001b[0m in \u001b[0;36m<module>\u001b[0;34m\u001b[0m\n\u001b[0;32m----> 1\u001b[0;31m \u001b[0mala\u001b[0m \u001b[0;34m=\u001b[0m \u001b[0mmain\u001b[0m\u001b[0;34m(\u001b[0m\u001b[0mmat_db\u001b[0m\u001b[0;34m,\u001b[0m \u001b[0mrama_dict\u001b[0m\u001b[0;34m)\u001b[0m\u001b[0;34m\u001b[0m\u001b[0;34m\u001b[0m\u001b[0m\n\u001b[0m",
      "\u001b[0;32m<ipython-input-6-3ea348221a32>\u001b[0m in \u001b[0;36mmain\u001b[0;34m(mat_db, rama_dict)\u001b[0m\n\u001b[1;32m     19\u001b[0m         \u001b[0mdih\u001b[0m\u001b[0;34m,\u001b[0m \u001b[0mconst\u001b[0m\u001b[0;34m,\u001b[0m \u001b[0mmult\u001b[0m \u001b[0;34m=\u001b[0m \u001b[0mrandomizer\u001b[0m\u001b[0;34m(\u001b[0m\u001b[0mmult\u001b[0m\u001b[0;34m)\u001b[0m\u001b[0;34m\u001b[0m\u001b[0;34m\u001b[0m\u001b[0m\n\u001b[1;32m     20\u001b[0m \u001b[0;34m\u001b[0m\u001b[0m\n\u001b[0;32m---> 21\u001b[0;31m         \u001b[0mscore\u001b[0m\u001b[0;34m,\u001b[0m \u001b[0mperc\u001b[0m \u001b[0;34m=\u001b[0m \u001b[0mmetropolis\u001b[0m\u001b[0;34m(\u001b[0m\u001b[0mmat_db\u001b[0m\u001b[0;34m,\u001b[0m \u001b[0mrama_dict\u001b[0m\u001b[0;34m,\u001b[0m \u001b[0mdih\u001b[0m\u001b[0;34m,\u001b[0m \u001b[0mconst\u001b[0m\u001b[0;34m,\u001b[0m \u001b[0mmult\u001b[0m\u001b[0;34m,\u001b[0m \u001b[0mbeta\u001b[0m\u001b[0;34m=\u001b[0m\u001b[0;36m1\u001b[0m\u001b[0;34m/\u001b[0m\u001b[0;36m2.4943389\u001b[0m\u001b[0;34m)\u001b[0m\u001b[0;34m\u001b[0m\u001b[0;34m\u001b[0m\u001b[0m\n\u001b[0m\u001b[1;32m     22\u001b[0m \u001b[0;34m\u001b[0m\u001b[0m\n\u001b[1;32m     23\u001b[0m         \u001b[0mscore_ref\u001b[0m\u001b[0;34m,\u001b[0m \u001b[0mratio\u001b[0m\u001b[0;34m,\u001b[0m \u001b[0mdf\u001b[0m \u001b[0;34m=\u001b[0m \u001b[0mwriter\u001b[0m\u001b[0;34m(\u001b[0m\u001b[0mdf\u001b[0m\u001b[0;34m,\u001b[0m \u001b[0mscore_ref\u001b[0m\u001b[0;34m,\u001b[0m \u001b[0mratio\u001b[0m\u001b[0;34m,\u001b[0m \u001b[0mi\u001b[0m\u001b[0;34m,\u001b[0m \u001b[0mtemp\u001b[0m\u001b[0;34m,\u001b[0m \u001b[0macceptance\u001b[0m\u001b[0;34m,\u001b[0m \u001b[0mscore\u001b[0m\u001b[0;34m,\u001b[0m \u001b[0mperc\u001b[0m\u001b[0;34m,\u001b[0m \u001b[0mdih\u001b[0m\u001b[0;34m,\u001b[0m \u001b[0mconst\u001b[0m\u001b[0;34m,\u001b[0m \u001b[0mmult\u001b[0m\u001b[0;34m)\u001b[0m\u001b[0;34m\u001b[0m\u001b[0;34m\u001b[0m\u001b[0m\n",
      "\u001b[0;32m<ipython-input-6-3ea348221a32>\u001b[0m in \u001b[0;36mmetropolis\u001b[0;34m(mat_db, rama_df, dih, const, mult, beta)\u001b[0m\n\u001b[1;32m     31\u001b[0m \u001b[0;32mdef\u001b[0m \u001b[0mmetropolis\u001b[0m\u001b[0;34m(\u001b[0m\u001b[0mmat_db\u001b[0m\u001b[0;34m,\u001b[0m \u001b[0mrama_df\u001b[0m\u001b[0;34m,\u001b[0m \u001b[0mdih\u001b[0m\u001b[0;34m,\u001b[0m \u001b[0mconst\u001b[0m\u001b[0;34m,\u001b[0m \u001b[0mmult\u001b[0m\u001b[0;34m,\u001b[0m \u001b[0mbeta\u001b[0m\u001b[0;34m)\u001b[0m\u001b[0;34m:\u001b[0m\u001b[0;34m\u001b[0m\u001b[0;34m\u001b[0m\u001b[0m\n\u001b[1;32m     32\u001b[0m \u001b[0;34m\u001b[0m\u001b[0m\n\u001b[0;32m---> 33\u001b[0;31m     \u001b[0mrama_df\u001b[0m \u001b[0;34m=\u001b[0m \u001b[0mmake_weights\u001b[0m\u001b[0;34m(\u001b[0m\u001b[0mrama_df\u001b[0m\u001b[0;34m,\u001b[0m \u001b[0mdih\u001b[0m\u001b[0;34m,\u001b[0m \u001b[0mconst\u001b[0m\u001b[0;34m,\u001b[0m \u001b[0mmult\u001b[0m\u001b[0;34m,\u001b[0m \u001b[0mbeta\u001b[0m\u001b[0;34m)\u001b[0m\u001b[0;34m\u001b[0m\u001b[0;34m\u001b[0m\u001b[0m\n\u001b[0m\u001b[1;32m     34\u001b[0m \u001b[0;34m\u001b[0m\u001b[0m\n\u001b[1;32m     35\u001b[0m     \u001b[0mperc\u001b[0m \u001b[0;34m=\u001b[0m \u001b[0mefficiency_analysis\u001b[0m\u001b[0;34m(\u001b[0m\u001b[0mrama_df\u001b[0m\u001b[0;34m)\u001b[0m\u001b[0;34m\u001b[0m\u001b[0;34m\u001b[0m\u001b[0m\n",
      "\u001b[0;32m<ipython-input-3-5450d39dc284>\u001b[0m in \u001b[0;36mmake_weights\u001b[0;34m(rama_df, dih, const, mult, beta)\u001b[0m\n\u001b[1;32m     22\u001b[0m \u001b[0;32mdef\u001b[0m \u001b[0mmake_weights\u001b[0m\u001b[0;34m(\u001b[0m\u001b[0mrama_df\u001b[0m\u001b[0;34m,\u001b[0m \u001b[0mdih\u001b[0m\u001b[0;34m,\u001b[0m \u001b[0mconst\u001b[0m\u001b[0;34m,\u001b[0m \u001b[0mmult\u001b[0m\u001b[0;34m,\u001b[0m \u001b[0mbeta\u001b[0m\u001b[0;34m)\u001b[0m\u001b[0;34m:\u001b[0m\u001b[0;34m\u001b[0m\u001b[0;34m\u001b[0m\u001b[0m\n\u001b[1;32m     23\u001b[0m \u001b[0;34m\u001b[0m\u001b[0m\n\u001b[0;32m---> 24\u001b[0;31m     \u001b[0mrama_df\u001b[0m \u001b[0;34m=\u001b[0m \u001b[0mrama_df\u001b[0m\u001b[0;34m.\u001b[0m\u001b[0massign\u001b[0m\u001b[0;34m(\u001b[0m\u001b[0mweight\u001b[0m\u001b[0;34m=\u001b[0m\u001b[0;32mlambda\u001b[0m \u001b[0mx\u001b[0m\u001b[0;34m:\u001b[0m \u001b[0mweight\u001b[0m\u001b[0;34m(\u001b[0m\u001b[0mx\u001b[0m\u001b[0;34m.\u001b[0m\u001b[0mphi\u001b[0m\u001b[0;34m,\u001b[0m \u001b[0mx\u001b[0m\u001b[0;34m.\u001b[0m\u001b[0mpsi\u001b[0m\u001b[0;34m,\u001b[0m \u001b[0mdih\u001b[0m\u001b[0;34m,\u001b[0m \u001b[0mconst\u001b[0m\u001b[0;34m,\u001b[0m \u001b[0mmult\u001b[0m\u001b[0;34m,\u001b[0m \u001b[0mbeta\u001b[0m\u001b[0;34m)\u001b[0m\u001b[0;34m)\u001b[0m\u001b[0;34m\u001b[0m\u001b[0;34m\u001b[0m\u001b[0m\n\u001b[0m\u001b[1;32m     25\u001b[0m \u001b[0;34m\u001b[0m\u001b[0m\n\u001b[1;32m     26\u001b[0m     \u001b[0mrama_df\u001b[0m\u001b[0;34m[\u001b[0m\u001b[0;34m'weight'\u001b[0m\u001b[0;34m]\u001b[0m \u001b[0;34m=\u001b[0m \u001b[0mrama_df\u001b[0m\u001b[0;34m[\u001b[0m\u001b[0;34m'weight'\u001b[0m\u001b[0;34m]\u001b[0m \u001b[0;34m/\u001b[0m \u001b[0mnp\u001b[0m\u001b[0;34m.\u001b[0m\u001b[0msum\u001b[0m\u001b[0;34m(\u001b[0m\u001b[0mrama_df\u001b[0m\u001b[0;34m[\u001b[0m\u001b[0;34m'weight'\u001b[0m\u001b[0;34m]\u001b[0m\u001b[0;34m)\u001b[0m\u001b[0;34m\u001b[0m\u001b[0;34m\u001b[0m\u001b[0m\n",
      "\u001b[0;32m~/anaconda3/lib/python3.7/site-packages/pandas/core/frame.py\u001b[0m in \u001b[0;36massign\u001b[0;34m(self, **kwargs)\u001b[0m\n\u001b[1;32m   3562\u001b[0m         \u001b[0mBerkeley\u001b[0m    \u001b[0;36m25.0\u001b[0m    \u001b[0;36m77.0\u001b[0m  \u001b[0;36m298.15\u001b[0m\u001b[0;34m\u001b[0m\u001b[0;34m\u001b[0m\u001b[0m\n\u001b[1;32m   3563\u001b[0m         \"\"\"\n\u001b[0;32m-> 3564\u001b[0;31m         \u001b[0mdata\u001b[0m \u001b[0;34m=\u001b[0m \u001b[0mself\u001b[0m\u001b[0;34m.\u001b[0m\u001b[0mcopy\u001b[0m\u001b[0;34m(\u001b[0m\u001b[0;34m)\u001b[0m\u001b[0;34m\u001b[0m\u001b[0;34m\u001b[0m\u001b[0m\n\u001b[0m\u001b[1;32m   3565\u001b[0m \u001b[0;34m\u001b[0m\u001b[0m\n\u001b[1;32m   3566\u001b[0m         \u001b[0;32mfor\u001b[0m \u001b[0mk\u001b[0m\u001b[0;34m,\u001b[0m \u001b[0mv\u001b[0m \u001b[0;32min\u001b[0m \u001b[0mkwargs\u001b[0m\u001b[0;34m.\u001b[0m\u001b[0mitems\u001b[0m\u001b[0;34m(\u001b[0m\u001b[0;34m)\u001b[0m\u001b[0;34m:\u001b[0m\u001b[0;34m\u001b[0m\u001b[0;34m\u001b[0m\u001b[0m\n",
      "\u001b[0;32m~/anaconda3/lib/python3.7/site-packages/pandas/core/generic.py\u001b[0m in \u001b[0;36mcopy\u001b[0;34m(self, deep)\u001b[0m\n\u001b[1;32m   5809\u001b[0m         \u001b[0mdtype\u001b[0m\u001b[0;34m:\u001b[0m \u001b[0mobject\u001b[0m\u001b[0;34m\u001b[0m\u001b[0;34m\u001b[0m\u001b[0m\n\u001b[1;32m   5810\u001b[0m         \"\"\"\n\u001b[0;32m-> 5811\u001b[0;31m         \u001b[0mdata\u001b[0m \u001b[0;34m=\u001b[0m \u001b[0mself\u001b[0m\u001b[0;34m.\u001b[0m\u001b[0m_data\u001b[0m\u001b[0;34m.\u001b[0m\u001b[0mcopy\u001b[0m\u001b[0;34m(\u001b[0m\u001b[0mdeep\u001b[0m\u001b[0;34m=\u001b[0m\u001b[0mdeep\u001b[0m\u001b[0;34m)\u001b[0m\u001b[0;34m\u001b[0m\u001b[0;34m\u001b[0m\u001b[0m\n\u001b[0m\u001b[1;32m   5812\u001b[0m         \u001b[0;32mreturn\u001b[0m \u001b[0mself\u001b[0m\u001b[0;34m.\u001b[0m\u001b[0m_constructor\u001b[0m\u001b[0;34m(\u001b[0m\u001b[0mdata\u001b[0m\u001b[0;34m)\u001b[0m\u001b[0;34m.\u001b[0m\u001b[0m__finalize__\u001b[0m\u001b[0;34m(\u001b[0m\u001b[0mself\u001b[0m\u001b[0;34m)\u001b[0m\u001b[0;34m\u001b[0m\u001b[0;34m\u001b[0m\u001b[0m\n\u001b[1;32m   5813\u001b[0m \u001b[0;34m\u001b[0m\u001b[0m\n",
      "\u001b[0;32m~/anaconda3/lib/python3.7/site-packages/pandas/core/internals/managers.py\u001b[0m in \u001b[0;36mcopy\u001b[0;34m(self, deep)\u001b[0m\n\u001b[1;32m    792\u001b[0m             \u001b[0mnew_axes\u001b[0m \u001b[0;34m=\u001b[0m \u001b[0mlist\u001b[0m\u001b[0;34m(\u001b[0m\u001b[0mself\u001b[0m\u001b[0;34m.\u001b[0m\u001b[0maxes\u001b[0m\u001b[0;34m)\u001b[0m\u001b[0;34m\u001b[0m\u001b[0;34m\u001b[0m\u001b[0m\n\u001b[1;32m    793\u001b[0m \u001b[0;34m\u001b[0m\u001b[0m\n\u001b[0;32m--> 794\u001b[0;31m         \u001b[0mres\u001b[0m \u001b[0;34m=\u001b[0m \u001b[0mself\u001b[0m\u001b[0;34m.\u001b[0m\u001b[0mapply\u001b[0m\u001b[0;34m(\u001b[0m\u001b[0;34m\"copy\"\u001b[0m\u001b[0;34m,\u001b[0m \u001b[0mdeep\u001b[0m\u001b[0;34m=\u001b[0m\u001b[0mdeep\u001b[0m\u001b[0;34m)\u001b[0m\u001b[0;34m\u001b[0m\u001b[0;34m\u001b[0m\u001b[0m\n\u001b[0m\u001b[1;32m    795\u001b[0m         \u001b[0mres\u001b[0m\u001b[0;34m.\u001b[0m\u001b[0maxes\u001b[0m \u001b[0;34m=\u001b[0m \u001b[0mnew_axes\u001b[0m\u001b[0;34m\u001b[0m\u001b[0;34m\u001b[0m\u001b[0m\n\u001b[1;32m    796\u001b[0m         \u001b[0;32mreturn\u001b[0m \u001b[0mres\u001b[0m\u001b[0;34m\u001b[0m\u001b[0;34m\u001b[0m\u001b[0m\n",
      "\u001b[0;32m~/anaconda3/lib/python3.7/site-packages/pandas/core/internals/managers.py\u001b[0m in \u001b[0;36mapply\u001b[0;34m(self, f, filter, **kwargs)\u001b[0m\n\u001b[1;32m    440\u001b[0m                 \u001b[0mapplied\u001b[0m \u001b[0;34m=\u001b[0m \u001b[0mb\u001b[0m\u001b[0;34m.\u001b[0m\u001b[0mapply\u001b[0m\u001b[0;34m(\u001b[0m\u001b[0mf\u001b[0m\u001b[0;34m,\u001b[0m \u001b[0;34m**\u001b[0m\u001b[0mkwargs\u001b[0m\u001b[0;34m)\u001b[0m\u001b[0;34m\u001b[0m\u001b[0;34m\u001b[0m\u001b[0m\n\u001b[1;32m    441\u001b[0m             \u001b[0;32melse\u001b[0m\u001b[0;34m:\u001b[0m\u001b[0;34m\u001b[0m\u001b[0;34m\u001b[0m\u001b[0m\n\u001b[0;32m--> 442\u001b[0;31m                 \u001b[0mapplied\u001b[0m \u001b[0;34m=\u001b[0m \u001b[0mgetattr\u001b[0m\u001b[0;34m(\u001b[0m\u001b[0mb\u001b[0m\u001b[0;34m,\u001b[0m \u001b[0mf\u001b[0m\u001b[0;34m)\u001b[0m\u001b[0;34m(\u001b[0m\u001b[0;34m**\u001b[0m\u001b[0mkwargs\u001b[0m\u001b[0;34m)\u001b[0m\u001b[0;34m\u001b[0m\u001b[0;34m\u001b[0m\u001b[0m\n\u001b[0m\u001b[1;32m    443\u001b[0m             \u001b[0mresult_blocks\u001b[0m \u001b[0;34m=\u001b[0m \u001b[0m_extend_blocks\u001b[0m\u001b[0;34m(\u001b[0m\u001b[0mapplied\u001b[0m\u001b[0;34m,\u001b[0m \u001b[0mresult_blocks\u001b[0m\u001b[0;34m)\u001b[0m\u001b[0;34m\u001b[0m\u001b[0;34m\u001b[0m\u001b[0m\n\u001b[1;32m    444\u001b[0m \u001b[0;34m\u001b[0m\u001b[0m\n",
      "\u001b[0;32m~/anaconda3/lib/python3.7/site-packages/pandas/core/internals/blocks.py\u001b[0m in \u001b[0;36mcopy\u001b[0;34m(self, deep)\u001b[0m\n\u001b[1;32m    696\u001b[0m         \u001b[0mvalues\u001b[0m \u001b[0;34m=\u001b[0m \u001b[0mself\u001b[0m\u001b[0;34m.\u001b[0m\u001b[0mvalues\u001b[0m\u001b[0;34m\u001b[0m\u001b[0;34m\u001b[0m\u001b[0m\n\u001b[1;32m    697\u001b[0m         \u001b[0;32mif\u001b[0m \u001b[0mdeep\u001b[0m\u001b[0;34m:\u001b[0m\u001b[0;34m\u001b[0m\u001b[0;34m\u001b[0m\u001b[0m\n\u001b[0;32m--> 698\u001b[0;31m             \u001b[0mvalues\u001b[0m \u001b[0;34m=\u001b[0m \u001b[0mvalues\u001b[0m\u001b[0;34m.\u001b[0m\u001b[0mcopy\u001b[0m\u001b[0;34m(\u001b[0m\u001b[0;34m)\u001b[0m\u001b[0;34m\u001b[0m\u001b[0;34m\u001b[0m\u001b[0m\n\u001b[0m\u001b[1;32m    699\u001b[0m         \u001b[0;32mreturn\u001b[0m \u001b[0mself\u001b[0m\u001b[0;34m.\u001b[0m\u001b[0mmake_block_same_class\u001b[0m\u001b[0;34m(\u001b[0m\u001b[0mvalues\u001b[0m\u001b[0;34m,\u001b[0m \u001b[0mndim\u001b[0m\u001b[0;34m=\u001b[0m\u001b[0mself\u001b[0m\u001b[0;34m.\u001b[0m\u001b[0mndim\u001b[0m\u001b[0;34m)\u001b[0m\u001b[0;34m\u001b[0m\u001b[0;34m\u001b[0m\u001b[0m\n\u001b[1;32m    700\u001b[0m \u001b[0;34m\u001b[0m\u001b[0m\n",
      "\u001b[0;31mKeyboardInterrupt\u001b[0m: "
     ]
    }
   ],
   "source": [
    "ala = main(mat_db, rama_dict)"
   ]
  },
  {
   "cell_type": "code",
   "execution_count": 31,
   "metadata": {},
   "outputs": [
    {
     "output_type": "execute_result",
     "data": {
      "text/plain": [
       "Empty DataFrame\n",
       "Columns: [score, ratio, perc, gd46, gd47, gd48, gd49, k46, k47, k48, k49, m46, m47, m48, m49]\n",
       "Index: []"
      ],
      "text/html": "<div>\n<style scoped>\n    .dataframe tbody tr th:only-of-type {\n        vertical-align: middle;\n    }\n\n    .dataframe tbody tr th {\n        vertical-align: top;\n    }\n\n    .dataframe thead th {\n        text-align: right;\n    }\n</style>\n<table border=\"1\" class=\"dataframe\">\n  <thead>\n    <tr style=\"text-align: right;\">\n      <th></th>\n      <th>score</th>\n      <th>ratio</th>\n      <th>perc</th>\n      <th>gd46</th>\n      <th>gd47</th>\n      <th>gd48</th>\n      <th>gd49</th>\n      <th>k46</th>\n      <th>k47</th>\n      <th>k48</th>\n      <th>k49</th>\n      <th>m46</th>\n      <th>m47</th>\n      <th>m48</th>\n      <th>m49</th>\n    </tr>\n  </thead>\n  <tbody>\n  </tbody>\n</table>\n</div>"
     },
     "metadata": {},
     "execution_count": 31
    }
   ],
   "source": [
    "ala"
   ]
  },
  {
   "cell_type": "code",
   "execution_count": null,
   "metadata": {},
   "outputs": [],
   "source": []
  }
 ]
}